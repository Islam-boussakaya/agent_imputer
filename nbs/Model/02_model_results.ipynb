{
 "cells": [
  {
   "cell_type": "code",
   "execution_count": 27,
   "id": "fc0d1d53-005a-40bc-b0af-cbc69163d6d1",
   "metadata": {
    "tags": []
   },
   "outputs": [],
   "source": [
    "#| default_exp model.model_results"
   ]
  },
  {
   "cell_type": "code",
   "execution_count": 28,
   "id": "dd59bb0a-e00c-4faf-abd1-14c46a4f37ab",
   "metadata": {
    "tags": []
   },
   "outputs": [],
   "source": [
    "#| hide\n",
    "%load_ext autoreload\n",
    "%autoreload 2\n",
    "from IPython.core.debugger import set_trace"
   ]
  },
  {
   "cell_type": "markdown",
   "id": "c855d6da-bec7-4866-8909-79823de9f768",
   "metadata": {},
   "source": [
    "# Load in results data from Model\n",
    "> In this notebook we will load and analyse the model."
   ]
  },
  {
   "cell_type": "code",
   "execution_count": 29,
   "id": "d799aec5-12c0-428d-aaf9-c613442e2b75",
   "metadata": {
    "tags": []
   },
   "outputs": [],
   "source": [
    "#| export\n",
    "\n",
    "import numpy as np\n",
    "import pandas as pd\n",
    "import math\n",
    "\n",
    "from typing import Callable, List, Optional, Tuple, Dict"
   ]
  },
  {
   "cell_type": "code",
   "execution_count": 30,
   "id": "08a2878e-1956-4d3c-a85d-42e3a44c441c",
   "metadata": {
    "tags": []
   },
   "outputs": [],
   "source": [
    "#| export\n",
    "\n",
    "POSITION_GROUPS = {\n",
    "                \"G\": \"Goalkeeper\", \n",
    "                \"CD\": \"Center Back\", \n",
    "                \"LFB\": \"Wing Back\",\n",
    "                \"RFB\": \"Wing Back\",\n",
    "                \"LW\": \"Winger\",\n",
    "                \"RW\": \"Winger\",\n",
    "                \"DMF\": \"Center Midfielder\",\n",
    "                \"AMF\": \"Center Midfielder\",\n",
    "                \"CMF\": \"Center Midfielder\",\n",
    "                \"S\": \"Striker\",\n",
    "                \"SS\": \"Striker\"\n",
    "            }"
   ]
  },
  {
   "cell_type": "code",
   "execution_count": 31,
   "id": "15dae2ed-0852-4648-a9cc-686716a9d95a",
   "metadata": {
    "tags": []
   },
   "outputs": [],
   "source": [
    "whole_input = pd.read_csv(\"/home/user/Downloads/agent_imputter_output/17_pred/whole_input.csv\")\n",
    "train_df = pd.read_csv(\"/home/user/Downloads/agent_imputter_output/17_pred/train_df.csv\")\n",
    "test_df = pd.read_csv(\"/home/user/Downloads/agent_imputter_output/17_pred/test_df.csv\")"
   ]
  },
  {
   "cell_type": "markdown",
   "id": "39ceb730-d383-4f87-addb-f5a22d9763ec",
   "metadata": {},
   "source": [
    "## Util functions"
   ]
  },
  {
   "cell_type": "code",
   "execution_count": 32,
   "id": "79818de4-9c44-4737-a07b-1c135e255d0a",
   "metadata": {
    "tags": []
   },
   "outputs": [],
   "source": [
    "#| export\n",
    "\n",
    "def merge_dfs(\n",
    "    whole_input: pd.DataFrame(),\n",
    "    train_df: pd.DataFrame(),\n",
    "    test_df: pd.DataFrame(),\n",
    ") -> Tuple:\n",
    "    \"merge train and test predictions with full features data frame \"\n",
    "    \n",
    "    # drop unnecessary columns\n",
    "    whole_input = whole_input.drop(columns=\"Unnamed: 0\")\n",
    "    train_df = train_df.drop(columns=\"Unnamed: 0\")\n",
    "    test_df = test_df.drop(columns=\"Unnamed: 0\")\n",
    "    \n",
    "    # merge the two dataframes on 'match_id', 'event_id', and 'player_id'\n",
    "    train_df = train_df.merge(whole_input[['match_id', 'event_id', 'player_id', 'position']], \n",
    "                              on=['match_id', 'event_id', 'player_id'], \n",
    "                              how='left')\n",
    "    # merge the two dataframes on 'match_id', 'event_id', and 'player_id'\n",
    "    test_df = test_df.merge(whole_input[['match_id', 'event_id', 'player_id', 'position']], \n",
    "                              on=['match_id', 'event_id', 'player_id'], \n",
    "                              how='left')\n",
    "    \n",
    "    return train_df, test_df"
   ]
  },
  {
   "cell_type": "code",
   "execution_count": 33,
   "id": "8b3fd1fd-3a7e-4797-8533-4b84cd3cebcc",
   "metadata": {
    "tags": []
   },
   "outputs": [],
   "source": [
    "train_df, test_df = merge_dfs(whole_input, train_df, test_df)"
   ]
  },
  {
   "cell_type": "markdown",
   "id": "36bddaa4-86df-433c-a586-91f343392104",
   "metadata": {},
   "source": [
    "## Group player py postions"
   ]
  },
  {
   "cell_type": "code",
   "execution_count": 34,
   "id": "21978cd6-6954-49ee-8261-14747fa99bc4",
   "metadata": {
    "tags": []
   },
   "outputs": [],
   "source": [
    "#| export\n",
    "\n",
    "def group_positions(\n",
    "    train_df: pd.DataFrame(),\n",
    "    test_df: pd.DataFrame(),\n",
    "    position_groups: Dict = POSITION_GROUPS,\n",
    ")-> Tuple:\n",
    "    \"Group position player .\"\n",
    "    # Create a new column in the DataFrame using the map function and the position_groups dictionary\n",
    "    train_df[\"group\"] = train_df[\"position\"].map(position_groups)\n",
    "    test_df[\"group\"] = test_df[\"position\"].map(position_groups)\n",
    "    \n",
    "    return train_df, test_df"
   ]
  },
  {
   "cell_type": "code",
   "execution_count": 35,
   "id": "2183edc5-a690-4ee3-ac95-657aa60d28ee",
   "metadata": {
    "tags": []
   },
   "outputs": [],
   "source": [
    "train_df, test_df = group_positions(train_df, test_df)"
   ]
  },
  {
   "cell_type": "markdown",
   "id": "06409308-1c4f-43a4-8fd3-f56d6b6f74a7",
   "metadata": {},
   "source": [
    "## Compute error"
   ]
  },
  {
   "cell_type": "code",
   "execution_count": 37,
   "id": "cf54465f-d361-4e08-a787-88ecc9a2f8da",
   "metadata": {
    "tags": []
   },
   "outputs": [],
   "source": [
    "def compute_error(\n",
    "    df: pd.DataFrame(),\n",
    "    dataset: str = \"train\"\n",
    ")-> None:\n",
    "    \"Compute and display error\"\n",
    "    \n",
    "    df[\"x_error\"] = np.abs(df[\"pred_x\"] - df[\"act_x\"])\n",
    "    df[\"y_error\"] = np.abs(df[\"pred_y\"] - df[\"act_y\"])\n",
    "    df[\"xy_error\"] = np.sqrt(df[\"x_error\"] ** 2 + df[\"y_error\"] ** 2)\n",
    "\n",
    "    # Compute the mean absolute error\n",
    "    mae_x = np.mean(np.abs(df[\"pred_x\"] - df[\"act_x\"]))\n",
    "    mae_y = np.mean(np.abs(df[\"pred_y\"] - df[\"act_y\"]))\n",
    "    mae_xy = np.mean(np.sqrt((df[\"pred_x\"] - df[\"act_x\"]) ** 2 + (df[\"pred_y\"] - df[\"act_y\"]) ** 2))\n",
    "\n",
    "    print(dataset)\n",
    "    print(\"-------------\")\n",
    "    print(\"MAE X:\", mae_x)\n",
    "    print(\"MAE Y:\", mae_y)\n",
    "    print(\"MAE XY:\", mae_xy)\n"
   ]
  },
  {
   "cell_type": "code",
   "execution_count": 38,
   "id": "bd91e058-73b1-450c-b102-85e0b55076ee",
   "metadata": {
    "tags": []
   },
   "outputs": [
    {
     "name": "stdout",
     "output_type": "stream",
     "text": [
      "train\n",
      "-------------\n",
      "MAE X: 19.939218988471257\n",
      "MAE Y: 11.332364427134776\n",
      "MAE XY: 24.969440932312853\n"
     ]
    }
   ],
   "source": [
    "compute_error(train_df,\"train\")"
   ]
  },
  {
   "cell_type": "code",
   "execution_count": 39,
   "id": "c0ddcc29-28c7-49b6-979e-01bbe7354c73",
   "metadata": {
    "tags": []
   },
   "outputs": [
    {
     "name": "stdout",
     "output_type": "stream",
     "text": [
      "test\n",
      "-------------\n",
      "MAE X: 19.39706549647137\n",
      "MAE Y: 11.03497309733208\n",
      "MAE XY: 24.414308316013024\n"
     ]
    }
   ],
   "source": [
    "compute_error(test_df,\"test\")"
   ]
  },
  {
   "cell_type": "code",
   "execution_count": null,
   "id": "e934bb4b-e567-4eed-acaa-d3b65b8b94b3",
   "metadata": {},
   "outputs": [],
   "source": [
    "train_df[[\"x_error\", \"y_error\", \"xy_error\", \"group\"]].groupby(\"group\").mean().sort_values(by='xy_error')"
   ]
  },
  {
   "cell_type": "code",
   "execution_count": null,
   "id": "07e98103-f9a8-41db-801e-9e5add3f4bba",
   "metadata": {},
   "outputs": [],
   "source": [
    "test_df[[\"x_error\", \"y_error\", \"xy_error\", \"group\"]].groupby(\"group\").mean().sort_values(by='xy_error')"
   ]
  },
  {
   "cell_type": "code",
   "execution_count": null,
   "id": "9fa7dddb-6a92-4cb1-aa1a-aeb595b96ea5",
   "metadata": {},
   "outputs": [],
   "source": [
    "#| hide\n",
    "from nbdev import nbdev_export\n",
    "\n",
    "nbdev_export()"
   ]
  }
 ],
 "metadata": {
  "kernelspec": {
   "display_name": "Python 3 (ipykernel)",
   "language": "python",
   "name": "python3"
  },
  "language_info": {
   "codemirror_mode": {
    "name": "ipython",
    "version": 3
   },
   "file_extension": ".py",
   "mimetype": "text/x-python",
   "name": "python",
   "nbconvert_exporter": "python",
   "pygments_lexer": "ipython3",
   "version": "3.9.16"
  }
 },
 "nbformat": 4,
 "nbformat_minor": 5
}
