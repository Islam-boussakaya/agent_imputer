{
 "cells": [
  {
   "cell_type": "code",
   "execution_count": null,
   "id": "0e66b277-0886-4b96-bbc4-4a6bbce93870",
   "metadata": {},
   "outputs": [],
   "source": [
    "#| default_exp features"
   ]
  },
  {
   "cell_type": "code",
   "execution_count": null,
   "id": "a3fe9a9f-edf1-40b0-b57c-802beb817c5c",
   "metadata": {},
   "outputs": [],
   "source": [
    "#| hide\n",
    "%load_ext autoreload\n",
    "%autoreload 2\n",
    "from IPython.core.debugger import set_trace\n",
    "     "
   ]
  },
  {
   "cell_type": "code",
   "execution_count": null,
   "id": "774a5bbd-cebd-43e3-a174-94cb58f5536d",
   "metadata": {},
   "outputs": [],
   "source": [
    "#| export\n",
    "import numpy as np\n",
    "import math\n",
    "import json\n",
    "import pandas as pd\n",
    "import re\n",
    "import itertools\n",
    "import os\n",
    "\n",
    "from sklearn.preprocessing import MinMaxScaler\n",
    "from sklearn.preprocessing import RobustScaler\n",
    "from sklearn.preprocessing import LabelEncoder\n",
    "from sklearn import preprocessing\n",
    "from pathlib import Path"
   ]
  },
  {
   "cell_type": "code",
   "execution_count": null,
   "id": "d6db3ba5-17b5-4307-b56d-8d527b79e9af",
   "metadata": {},
   "outputs": [],
   "source": [
    "# to display scientific notation as float for debugging\n",
    "np.set_printoptions(suppress=True)"
   ]
  },
  {
   "cell_type": "code",
   "execution_count": null,
   "id": "2798f549-4112-42f7-8242-4c4798bda34a",
   "metadata": {},
   "outputs": [],
   "source": [
    "PITCH_SIZE = [105,68]"
   ]
  },
  {
   "cell_type": "code",
   "execution_count": null,
   "id": "f586d5b6-80cc-4ec1-b6bf-ce404b545aad",
   "metadata": {},
   "outputs": [],
   "source": [
    "event_provider = \"opta\"\n",
    "tracking_provider = \"secondSpectrum\""
   ]
  },
  {
   "cell_type": "markdown",
   "id": "d223652c-69f6-4df8-b22b-fca0c618de51",
   "metadata": {},
   "source": [
    "## Get Event and Tracking dataframes for all games"
   ]
  },
  {
   "cell_type": "code",
   "execution_count": null,
   "id": "778bdfa3-cdd1-415e-820a-dc5c2a51453c",
   "metadata": {},
   "outputs": [],
   "source": [
    "#| hide\n",
    "from nbdev import nbdev_export\n",
    "\n",
    "nbdev_export()\n",
    "     "
   ]
  },
  {
   "cell_type": "code",
   "execution_count": null,
   "id": "c55fd855-9097-4190-b634-9080217afd9a",
   "metadata": {},
   "outputs": [],
   "source": []
  }
 ],
 "metadata": {
  "kernelspec": {
   "display_name": "python3",
   "language": "python",
   "name": "python3"
  }
 },
 "nbformat": 4,
 "nbformat_minor": 5
}
