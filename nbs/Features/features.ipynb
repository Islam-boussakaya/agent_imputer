{
 "cells": [
  {
   "cell_type": "code",
   "execution_count": 1,
   "id": "0e66b277-0886-4b96-bbc4-4a6bbce93870",
   "metadata": {},
   "outputs": [],
   "source": [
    "#| default_exp features"
   ]
  },
  {
   "cell_type": "code",
   "execution_count": 2,
   "id": "a3fe9a9f-edf1-40b0-b57c-802beb817c5c",
   "metadata": {},
   "outputs": [],
   "source": [
    "#| hide\n",
    "%load_ext autoreload\n",
    "%autoreload 2\n",
    "from IPython.core.debugger import set_trace"
   ]
  },
  {
   "cell_type": "markdown",
   "id": "72ba2eed-dfcf-4f6f-98cb-7f70bdfc1355",
   "metadata": {
    "tags": []
   },
   "source": [
    "# Feature Engineering\n",
    "> In this notebook, our aim is to extract and compute the features required for the model."
   ]
  },
  {
   "cell_type": "markdown",
   "id": "5aff0e8d-ad9c-4fcf-9817-1b1cee26b4ea",
   "metadata": {},
   "source": [
    "The features that are available for a particular point in time are exclusively derived from data related to events happening during play, including the location of the event, the player in possession of the ball, the time of the event, and additional information like the current score. However, when analyzing the context of a player not in possession of the ball, we need to consider their spatiotemporal situation, which includes the time when their location was last observed, i.e., when they were last in possession of the ball. These features are calculated for each player, and they include both player-specific and global features. Specifically, for a particular moment in time (denoted as $t$) with a corresponding event (denoted as e𝑡 ∈ $E$), and an observed player (denoted as $a_{n}$ ∈ $A$), we compute the following set of features:\n",
    "\n",
    "## Agent-Specific Features\n",
    "* **prevAgentTime, prevAgentX, prevAgentY**: Last time agent was observed doing an event and its location at the time.\n",
    "* **nextAgentTime, nextAgentX, nextAgentY**: Next time agent is observed doing an event and its location at the time.\n",
    "* **avAgentX, avAgentY**: mean location of the agent across the entire game.\n",
    "* **agentRole**: Agent role in team.\n",
    "* **agentSide**: binary indicator of whether an agent is on the same team as the current ball-carrying agent.\n",
    "* **agentObserved**: binary indicator of whether the agent is observed or not.\n",
    "* **goalDiff**: the difference in score between the teams at each timestep.\n",
    "\n",
    "## Global Features\n",
    "* **eventX,eventY**: The coordinates of the event $e_{x,y}$.\n",
    "* **eventType**: The type of event."
   ]
  },
  {
   "cell_type": "code",
   "execution_count": 3,
   "id": "774a5bbd-cebd-43e3-a174-94cb58f5536d",
   "metadata": {},
   "outputs": [],
   "source": [
    "#| export\n",
    "\n",
    "import itertools\n",
    "import json\n",
    "import math\n",
    "import os\n",
    "import re\n",
    "from pathlib import Path\n",
    "from typing import Callable, List, Optional, Tuple\n",
    "\n",
    "import numpy as np\n",
    "import pandas as pd\n",
    "import torch\n",
    "\n",
    "from sklearn import preprocessing\n",
    "from sklearn.preprocessing import LabelEncoder, MinMaxScaler, RobustScaler\n",
    "\n",
    "from agent_imputter.utils import *"
   ]
  },
  {
   "cell_type": "code",
   "execution_count": 4,
   "id": "d6db3ba5-17b5-4307-b56d-8d527b79e9af",
   "metadata": {},
   "outputs": [],
   "source": [
    "# to display scientific notation as float for debugging\n",
    "np.set_printoptions(suppress=True)"
   ]
  },
  {
   "cell_type": "markdown",
   "id": "d223652c-69f6-4df8-b22b-fca0c618de51",
   "metadata": {},
   "source": [
    "## Load Data"
   ]
  },
  {
   "cell_type": "markdown",
   "id": "89b0fda2-703b-4e2d-bc87-b5608fd632f1",
   "metadata": {},
   "source": [
    "For the Data we require using these files :\n",
    "* `optical_tracking_df.csv`\n",
    "* `optical_opta_mapping.csv`\n",
    "* `opta_events_reduced.csv`\n",
    "* `lineup.csv`\n",
    "* `ins_outs.csv`"
   ]
  },
  {
   "cell_type": "code",
   "execution_count": 5,
   "id": "f586d5b6-80cc-4ec1-b6bf-ce404b545aad",
   "metadata": {},
   "outputs": [],
   "source": [
    "event_provider = \"opta\"\n",
    "tracking_provider = \"secondSpectrum\""
   ]
  },
  {
   "cell_type": "code",
   "execution_count": 6,
   "id": "c4914eb5-797d-4a4d-ab2e-3bdecf39316e",
   "metadata": {
    "tags": []
   },
   "outputs": [],
   "source": [
    "game_path = Path(\n",
    "    \"/home/user/Downloads/Data/games/1059704_2019-08-10_Burnley_Southampton\"\n",
    ")\n",
    "game_id = 1059704\n",
    "tracking_provider = \"secondSpectrum\"\n",
    "events_df, tracking_df, lineup_df = get_game_dataframes(\n",
    "    game_path=game_path,\n",
    "    game_id=game_id,\n",
    "    event_provider=event_provider,\n",
    "    tracking_provider=tracking_provider,\n",
    ")"
   ]
  },
  {
   "cell_type": "markdown",
   "id": "827f118f-e424-4a7c-a4e7-27a1aa71aedb",
   "metadata": {},
   "source": [
    "### Functions"
   ]
  },
  {
   "cell_type": "code",
   "execution_count": 7,
   "id": "a42018e3-3012-4da8-8b91-4620a1d50835",
   "metadata": {
    "tags": []
   },
   "outputs": [],
   "source": [
    "#| export\n",
    "def get_tracking_indexes(\n",
    "    events_df: pd.DataFrame(), tracking_df: pd.DataFrame()\n",
    ") -> np.array:\n",
    "    \"get tracking indexes related to each event\"\n",
    "    return events_df[\"frameId\"].values"
   ]
  },
  {
   "cell_type": "code",
   "execution_count": 8,
   "id": "33aad61e-9f70-4ba5-aaec-abb436ed4d67",
   "metadata": {
    "tags": []
   },
   "outputs": [],
   "source": [
    "tracking_indexes = get_tracking_indexes(events_df, tracking_df)"
   ]
  },
  {
   "cell_type": "markdown",
   "id": "f141945c-ac0d-4024-85a6-2d24e4a34ef3",
   "metadata": {},
   "source": [
    "## Player numerical features"
   ]
  },
  {
   "cell_type": "code",
   "execution_count": 9,
   "id": "d2ae3d21-e5e1-41a0-bfcc-6842c9adfa21",
   "metadata": {
    "tags": []
   },
   "outputs": [],
   "source": [
    "#| export\n",
    "def _get_player_events_half(\n",
    "    half_events_df: pd.DataFrame(),\n",
    "    player: str,\n",
    ") -> pd.DataFrame():\n",
    "    \"get player numerical features of one half\"\n",
    "    ball_x = half_events_df[\"tr_x\"]\n",
    "    ball_y = half_events_df[\"tr_y\"]\n",
    "    time_since_last_pred = half_events_df[\"event_secs\"].diff().fillna(0)\n",
    "    prev_player_time = []\n",
    "    next_player_time = []\n",
    "    l_prev_player_x = []\n",
    "    l_prev_player_y = []\n",
    "    l_next_player_x = []\n",
    "    l_next_player_y = []\n",
    "\n",
    "    for i in range(half_events_df.index[0], half_events_df.index[-1] + 1):\n",
    "        prev_events = half_events_df.loc[: i - 1]\n",
    "        next_events = half_events_df.loc[i + 1 :]\n",
    "        prev_player_event = prev_events[\n",
    "            (prev_events[\"playerKey\"] == player)\n",
    "            | (prev_events[\"opponentKey\"] == player)\n",
    "        ].tail(1)\n",
    "        next_player_event = next_events[\n",
    "            (next_events[\"playerKey\"] == player)\n",
    "            | (next_events[\"opponentKey\"] == player)\n",
    "        ].head(1)\n",
    "\n",
    "        if len(prev_player_event) == 0:\n",
    "            l_prev_player_x.append(0)\n",
    "            l_prev_player_y.append(0)\n",
    "            prev_player_time.append(1000000)\n",
    "        elif len(prev_player_event) == 1:\n",
    "            l_prev_player_x.append(prev_player_event[\"tr_x\"].values[0])\n",
    "            l_prev_player_y.append(prev_player_event[\"tr_y\"].values[0])\n",
    "            last_player_time = (\n",
    "                half_events_df.iloc[i][\"event_secs\"]\n",
    "                - prev_player_event[\"event_secs\"].values[0]\n",
    "            )\n",
    "            prev_player_time.append(last_player_time)\n",
    "\n",
    "        if len(next_player_event) == 0:\n",
    "            l_next_player_x.append(0)\n",
    "            l_next_player_y.append(0)\n",
    "            next_player_time.append(1000000)\n",
    "        elif len(next_player_event) == 1:\n",
    "            l_next_player_x.append(next_player_event[\"tr_x\"].values[0])\n",
    "            l_next_player_y.append(next_player_event[\"tr_y\"].values[0])\n",
    "            later_player_time = (\n",
    "                next_player_event[\"event_secs\"].values[0]\n",
    "                - half_events_df.iloc[i][\"event_secs\"]\n",
    "            )\n",
    "            next_player_time.append(later_player_time)\n",
    "\n",
    "    return pd.DataFrame(\n",
    "        {\n",
    "            \"ballx\": ball_x,\n",
    "            \"bally\": ball_y,\n",
    "            \"time_since_last_pred\": time_since_last_pred,\n",
    "            \"prev_player_x\": l_prev_player_x,\n",
    "            \"prev_player_y\": l_prev_player_y,\n",
    "            \"prev_player_time\": prev_player_time,\n",
    "            \"next_player_x\": l_next_player_x,\n",
    "            \"next_player_y\": l_next_player_y,\n",
    "            \"next_player_time\": next_player_time,\n",
    "        }\n",
    "    )\n",
    "\n",
    "\n",
    "def get_player_events_data(\n",
    "    events_df: pd.DataFrame(),\n",
    "    player: str,\n",
    ") -> pd.DataFrame():\n",
    "    \"get player numerical features\"\n",
    "    events_FH = events_df[events_df[\"period_id\"] == 1].copy().reset_index(drop=True)\n",
    "    events_SH = events_df[events_df[\"period_id\"] == 2].copy().reset_index(drop=True)\n",
    "    info_events_FH = _get_player_events_half(events_FH, player)\n",
    "    info_events_SH = _get_player_events_half(events_SH, player)\n",
    "\n",
    "    return pd.concat([info_events_FH, info_events_SH]).reset_index(drop=True)"
   ]
  },
  {
   "cell_type": "code",
   "execution_count": 10,
   "id": "1efe5c7e-196b-403b-934e-bc060d7107ab",
   "metadata": {
    "tags": []
   },
   "outputs": [],
   "source": [
    "player = \"home_player_4\"\n",
    "pl_num_feats = get_player_events_data(events_df, player)"
   ]
  },
  {
   "cell_type": "markdown",
   "id": "00b4f016-2695-4bb1-b980-3a32c37daac3",
   "metadata": {},
   "source": [
    "## Player categorical features"
   ]
  },
  {
   "cell_type": "code",
   "execution_count": 11,
   "id": "edad9639-67ec-412b-aec6-b14527c69a0f",
   "metadata": {
    "tags": []
   },
   "outputs": [],
   "source": [
    "#| export\n",
    "def get_player_categorical_data(\n",
    "    events_df: pd.DataFrame(),\n",
    "    player: str,\n",
    "    team_df: pd.DataFrame(),\n",
    ") -> pd.DataFrame():\n",
    "    \"get player categorical features\"\n",
    "    side = player.split(\"_\")[0]\n",
    "    jersey_number = int(player.split(\"_\")[2])\n",
    "    position = team_df[\n",
    "        (team_df[\"side\"] == side) & (team_df[\"jerseyNumber\"] == jersey_number)\n",
    "    ][\"position_sportLogic\"].values[0]\n",
    "    event_type = events_df[\"event_name\"]\n",
    "    event_id = events_df[\"event_key\"]\n",
    "    match_id = events_df[\"gameId\"]\n",
    "    event_time = events_df[\"event_secs\"]\n",
    "    period = events_df[\"period_id\"]\n",
    "    team_on_ball = events_df[\"playerKey\"].isin(\n",
    "        [\n",
    "            f\"{_side}_player_{_jersey}\"\n",
    "            for _side, _jersey in zip(team_df[\"side\"], team_df[\"jerseyNumber\"])\n",
    "        ]\n",
    "    )\n",
    "    player_on_ball = pd.Series(np.where(events_df[\"playerKey\"] == player, True, False))\n",
    "    return pd.DataFrame(\n",
    "        {\n",
    "            \"event_id\": event_id,\n",
    "            \"match_id\": match_id,\n",
    "            \"event_time\": event_time,\n",
    "            \"period_id\": period,\n",
    "            \"player_id\": player,\n",
    "            \"position\": position,\n",
    "            \"event_type\": event_type,\n",
    "            \"team_on_ball\": team_on_ball,\n",
    "            \"player_on_ball\": player_on_ball,\n",
    "        }\n",
    "    )"
   ]
  },
  {
   "cell_type": "code",
   "execution_count": 12,
   "id": "495b6060-d17b-4d1e-8fb6-81c08ccb540d",
   "metadata": {
    "tags": []
   },
   "outputs": [],
   "source": [
    "pl_cat_feats = get_player_categorical_data(\n",
    "    events_df, \"home_player_4\", lineup_df[lineup_df[\"side\"] == \"home\"]\n",
    ").head(10)"
   ]
  },
  {
   "cell_type": "markdown",
   "id": "7c06c6e8-34c1-4aa3-bfc8-373e88767ed2",
   "metadata": {},
   "source": [
    "## Score Difference"
   ]
  },
  {
   "cell_type": "code",
   "execution_count": 13,
   "id": "daae156b-5cd8-4c1c-8da9-f3e2ebb6d61e",
   "metadata": {
    "tags": []
   },
   "outputs": [],
   "source": [
    "#| export\n",
    "def get_goal_diff(events_df: pd.DataFrame(), team_id: int):\n",
    "    \"Calculate the goal difference at moments in a game\"\n",
    "    gc = (\n",
    "        (events_df[\"event_name\"].str.contains(\"Goal\"))\n",
    "        & (events_df[\"possessionTeamId\"] == team_id)\n",
    "    ).cumsum()\n",
    "    gs = (\n",
    "        (events_df[\"event_name\"].str.contains(\"Goal\"))\n",
    "        & (events_df[\"possessionTeamId\"] != team_id)\n",
    "    ).cumsum()\n",
    "    return gs - gc"
   ]
  },
  {
   "cell_type": "code",
   "execution_count": 14,
   "id": "b2856445-d14b-41d0-8a0f-708ed30306da",
   "metadata": {
    "tags": []
   },
   "outputs": [],
   "source": [
    "gd = get_goal_diff(events_df, get_teams(events_df)[1])"
   ]
  },
  {
   "cell_type": "code",
   "execution_count": 15,
   "id": "a31bc426-a784-43a5-a3f4-084109dba2dc",
   "metadata": {
    "tags": []
   },
   "outputs": [],
   "source": [
    "#| export\n",
    "def get_data(\n",
    "    events_df: pd.DataFrame(),\n",
    "    tracking_df: pd.DataFrame(),\n",
    "    player: str,  # player key\n",
    "    team_df: pd.DataFrame(),  # lineup team df\n",
    "    team_gk: int,  # gk jersey\n",
    "    tracking_indexes,\n",
    "    goal_diff,  # team goal diff\n",
    "    side: str,  # home or away\n",
    ") -> Tuple:\n",
    "    \"get player features\"\n",
    "    ltr_mask_x = np.where(\n",
    "        tracking_df[f\"{side}_player_{team_gk}_x\"][tracking_indexes].reset_index(\n",
    "            drop=True\n",
    "        )\n",
    "        > 52.5,\n",
    "        105,\n",
    "        0,\n",
    "    )\n",
    "\n",
    "    # flip coords in events\n",
    "    events_df[\"tr_x\"] = abs(events_df[[\"tr_x\"]] - ltr_mask_x[:, None])\n",
    "    input_data = get_player_events_data(events_df, player)\n",
    "\n",
    "    cats = get_player_categorical_data(events_df, player, team_df)\n",
    "    cats = pd.concat([cats, goal_diff], axis=1)\n",
    "\n",
    "    input_data = pd.concat(\n",
    "        [input_data, cats], axis=1\n",
    "    )  # torch.cat((input_x_data, input_y_data,cats),1)\n",
    "    input_data[\"av_player_x\"] = np.mean(\n",
    "        input_data[input_data[\"player_on_ball\"] == True][\"ballx\"]\n",
    "    )\n",
    "    input_data[\"av_player_y\"] = np.mean(\n",
    "        input_data[input_data[\"player_on_ball\"] == True][\"bally\"]\n",
    "    )\n",
    "\n",
    "    label_x = np.array(tracking_df[f\"{player}_x\"][tracking_indexes])\n",
    "    label_x = np.absolute(label_x - ltr_mask_x)\n",
    "    label_y = np.array(tracking_df[f\"{player}_y\"][tracking_indexes])\n",
    "    label_data = np.array(list(zip(label_x, label_y)))\n",
    "\n",
    "    nan_rows = np.where((np.isnan(label_data)).all(axis=1))[0]\n",
    "    label_data = np.delete(label_data, nan_rows, axis=0)\n",
    "    input_data.drop(input_data.index[nan_rows], inplace=True)\n",
    "\n",
    "    return input_data, label_data"
   ]
  },
  {
   "cell_type": "code",
   "execution_count": 16,
   "id": "19cd9e81-1cab-488e-a6c6-75b6c4eaff69",
   "metadata": {
    "tags": []
   },
   "outputs": [],
   "source": [
    "_input_data, _label_data = get_data(\n",
    "    events_df,\n",
    "    tracking_df,\n",
    "    \"home_player_10\",\n",
    "    lineup_df[lineup_df[\"side\"] == \"home\"],\n",
    "    get_goalkeepers(lineup_df)[0],\n",
    "    tracking_indexes,\n",
    "    gd,\n",
    "    \"home\",\n",
    ")"
   ]
  },
  {
   "cell_type": "code",
   "execution_count": 17,
   "id": "f0fb3ef0-d0e7-4270-8c5d-87ce7b1e3496",
   "metadata": {
    "tags": []
   },
   "outputs": [],
   "source": [
    "#| export\n",
    "def get_game_data(\n",
    "    events_df: pd.DataFrame(),\n",
    "    tracking_df: pd.DataFrame(),\n",
    "    lineup_df: pd.DataFrame(),\n",
    "    goalkeepers: Tuple,\n",
    ") -> Tuple:\n",
    "    \"Get full feature set data for one game\"\n",
    "    tracking_indexes = get_tracking_indexes(events_df, tracking_df)\n",
    "    whole_input = pd.DataFrame()\n",
    "    whole_label = np.empty((0, 2), float)\n",
    "    home_team_id, away_team_id = get_teams(events_df)\n",
    "\n",
    "    home_team_df = lineup_df[lineup_df[\"side\"] == \"home\"]\n",
    "    away_team_df = lineup_df[lineup_df[\"side\"] == \"away\"]\n",
    "\n",
    "    home_goal_diff = pd.Series(get_goal_diff(events_df, home_team_id), name=\"goal_diff\")\n",
    "    away_goal_diff = pd.Series(get_goal_diff(events_df, away_team_id), name=\"goal_diff\")\n",
    "\n",
    "    home_player_key = [\n",
    "        player_key[: player_key.find(\"_x\")]\n",
    "        for player_key in tracking_df.columns.tolist()\n",
    "        if player_key.startswith(\"home\") & player_key.endswith(\"_x\")\n",
    "    ]\n",
    "    away_jersey_key = [\n",
    "        player_key[: player_key.find(\"_x\")]\n",
    "        for player_key in tracking_df.columns.tolist()\n",
    "        if player_key.startswith(\"away\") & player_key.endswith(\"_x\")\n",
    "    ]\n",
    "\n",
    "    for pl_key in home_player_key:\n",
    "        input_data, label_data = get_data(\n",
    "            events_df,\n",
    "            tracking_df,\n",
    "            pl_key,\n",
    "            home_team_df,\n",
    "            goalkeepers[0],\n",
    "            tracking_indexes,\n",
    "            home_goal_diff,\n",
    "            \"home\",\n",
    "        )\n",
    "        whole_input = pd.concat([whole_input, input_data])\n",
    "        whole_label = np.append(whole_label, label_data, axis=0)\n",
    "\n",
    "    for pl_key in away_jersey_key:\n",
    "        input_data, label_data = get_data(\n",
    "            events_df,\n",
    "            tracking_df,\n",
    "            pl_key,\n",
    "            away_team_df,\n",
    "            goalkeepers[1],\n",
    "            tracking_indexes,\n",
    "            away_goal_diff,\n",
    "            \"away\",\n",
    "        )\n",
    "        whole_input = pd.concat([whole_input, input_data])\n",
    "        whole_label = np.append(whole_label, label_data, axis=0)\n",
    "\n",
    "    # sort df\n",
    "    whole_input[\"label_x\"] = whole_label[:, 0]\n",
    "    whole_input[\"label_y\"] = whole_label[:, 1]\n",
    "    whole_input = whole_input.sort_values([\"period_id\", \"event_time\"])\n",
    "    # whole_label = torch.tensor(np.column_stack((whole_input[\"label_x\"].values,whole_input[\"label_y\"].values)))\n",
    "    # whole_input = whole_input.drop(columns=[\"label_x\", \"label_y\"])\n",
    "\n",
    "    return whole_input"
   ]
  },
  {
   "cell_type": "code",
   "execution_count": 18,
   "id": "b3ba1f67-072b-43b6-92c9-00a003f860a2",
   "metadata": {
    "tags": []
   },
   "outputs": [],
   "source": [
    "input_data = get_game_data(\n",
    "    events_df, tracking_df, lineup_df, get_goalkeepers(lineup_df)\n",
    ")"
   ]
  },
  {
   "cell_type": "markdown",
   "id": "7472a9e7-517c-47da-9fad-cd69bbc44ba2",
   "metadata": {},
   "source": [
    "## Sort features DataFrame"
   ]
  },
  {
   "cell_type": "code",
   "execution_count": 19,
   "id": "2309bfbc-f46a-471f-8559-2b9368d257b6",
   "metadata": {
    "tags": []
   },
   "outputs": [],
   "source": [
    "#| export\n",
    "def custom_sort(\n",
    "    input_data: pd.DataFrame(),\n",
    ") -> Tuple:\n",
    "    \"Sort the input data by event, and then team, and then position.\"\n",
    "\n",
    "    position_dict = {\n",
    "        \"G\": 0,\n",
    "        \"LFB\": 1,\n",
    "        \"RFB\": 2,\n",
    "        \"CMF\": 3,\n",
    "        \"DMF\": 4,\n",
    "        \"AMF\": 5,\n",
    "        \"CD\": 6,\n",
    "        \"S\": 7,\n",
    "        \"SS\": 8,\n",
    "        \"RW\": 9,\n",
    "        \"LW\": 10,\n",
    "        \"AMC\": 11,\n",
    "    }\n",
    "    whole_df = pd.DataFrame()\n",
    "    for e in input_data[\"event_id\"].unique():\n",
    "        events = input_data[(input_data[\"event_id\"] == e)]\n",
    "        if len(events) != 22:\n",
    "            continue\n",
    "        team_on_ball = events[(events[\"team_on_ball\"] == True)]\n",
    "        team_off_ball = events[(events[\"team_on_ball\"] == False)]\n",
    "        team_on_ball = team_on_ball.sort_values(\n",
    "            by=\"position\", key=lambda x: x.map(position_dict)\n",
    "        )\n",
    "        team_off_ball = team_off_ball.sort_values(\n",
    "            by=\"position\", key=lambda x: x.map(position_dict)\n",
    "        )\n",
    "        on_off = pd.concat([team_on_ball, team_off_ball])\n",
    "\n",
    "        home_players = events[\n",
    "            events[\"player_id\"].str.startswith(\"home_player\")\n",
    "        ].sort_values(by=\"position\", key=lambda x: x.map(position_dict))\n",
    "        away_players = events[\n",
    "            events[\"player_id\"].str.startswith(\"away_player\")\n",
    "        ].sort_values(by=\"position\", key=lambda x: x.map(position_dict))\n",
    "        players = pd.concat([home_players, away_players])\n",
    "\n",
    "        whole_df = pd.concat([whole_df, players])\n",
    "\n",
    "    whole_df = whole_df.reset_index(drop=True)\n",
    "    # whole_label = torch.tensor(np.column_stack((whole_df[\"label_x\"].values,whole_df[\"label_y\"].values)))\n",
    "    # whole_df = whole_df.drop(columns=[\"label_x\", \"label_y\"])\n",
    "\n",
    "    event_num = pd.Index(range(int(len(whole_df) / 22))).repeat(22)\n",
    "    whole_df.insert(0, \"event_num\", event_num)\n",
    "\n",
    "    return whole_df"
   ]
  },
  {
   "cell_type": "code",
   "execution_count": 20,
   "id": "b71dbaea-5287-417d-9be0-ade5902ebaa6",
   "metadata": {
    "tags": []
   },
   "outputs": [],
   "source": [
    "sorted_whole_input_df = custom_sort(input_data)"
   ]
  },
  {
   "cell_type": "markdown",
   "id": "f2431691-83bf-41e7-9951-1ba2aefcf5a6",
   "metadata": {},
   "source": [
    "## Compute features for one game"
   ]
  },
  {
   "cell_type": "code",
   "execution_count": 21,
   "id": "fb561bab-17fa-4699-a309-e2dd48d13b53",
   "metadata": {
    "tags": []
   },
   "outputs": [],
   "source": [
    "#| export\n",
    "\n",
    "\n",
    "def get_features_game(\n",
    "    events_df: pd.DataFrame(), tracking_df: pd.DataFrame(), lineup_df: pd.DataFrame()\n",
    ") -> Tuple:\n",
    "    \"Compute features and labels for one game\"\n",
    "    input_data = get_game_data(\n",
    "        events_df, tracking_df, lineup_df, get_goalkeepers(lineup_df)\n",
    "    )\n",
    "    sorted_whole_input_df = custom_sort(input_data)\n",
    "    return sorted_whole_input_df"
   ]
  },
  {
   "cell_type": "code",
   "execution_count": 22,
   "id": "cef06767-08a5-40b3-8a7c-0be870b910a0",
   "metadata": {
    "tags": []
   },
   "outputs": [],
   "source": [
    "features_df = get_features_game(events_df, tracking_df, lineup_df)"
   ]
  },
  {
   "cell_type": "markdown",
   "id": "f82d1272-9ca6-4195-afcb-f26bf53341f7",
   "metadata": {},
   "source": [
    "## Compute features for all games"
   ]
  },
  {
   "cell_type": "code",
   "execution_count": 23,
   "id": "95b1499a-c2f2-48f4-9cb3-3af186882484",
   "metadata": {},
   "outputs": [],
   "source": [
    "#| export\n",
    "\n",
    "\n",
    "def get_features_all_game(\n",
    "    games_path: Path,\n",
    "    tracking_provider: str,\n",
    "    event_provider: str = \"opta\",\n",
    "    save_df: bool = False,\n",
    ") -> pd.DataFrame():\n",
    "    \"Compute features and labels for all games in dataset\"\n",
    "\n",
    "    match_folder = tuple(\n",
    "        name\n",
    "        for name in os.listdir(games_path)\n",
    "        if os.path.isdir(os.path.join(games_path, name))\n",
    "    )\n",
    "    match_ids = [int(_folder.split(\"_\")[0]) for _folder in match_folder]\n",
    "\n",
    "    events_dfs = []\n",
    "    tracking_dfs = []\n",
    "    lineup_dfs = []\n",
    "    num_games = len(match_ids)\n",
    "    count = 0\n",
    "\n",
    "    for _folder, match_id in zip(match_folder, match_ids):\n",
    "        print(f\"match id : {match_id}\")\n",
    "        _match_folder = Path(f\"{games_path}{_folder}\")\n",
    "        events_df, tracking_df, lineup_df = get_game_dataframes(\n",
    "            _match_folder, match_id, event_provider, tracking_provider\n",
    "        )\n",
    "        count += len(events_df)\n",
    "        events_dfs.append(events_df)\n",
    "        tracking_dfs.append(tracking_df)\n",
    "        lineup_dfs.append(lineup_df)\n",
    "\n",
    "    whole_input = []\n",
    "\n",
    "    for i, _folder, match_id in zip(range(0, num_games), match_folder, match_ids):\n",
    "        print(f\"game num : {i}\")\n",
    "        input_data = get_features_game(events_dfs[i], tracking_dfs[i], lineup_dfs[i])\n",
    "        whole_input.append(input_data)\n",
    "        if save_df:\n",
    "            _match_folder = Path(f\"{games_path}{_folder}\")\n",
    "            input_data.to_csv(f\"{_match_folder}/features.csv\")\n",
    "    return whole_input"
   ]
  },
  {
   "cell_type": "code",
   "execution_count": null,
   "id": "93aa4f8d-ec3d-4ad2-890f-00cd5f1f7f37",
   "metadata": {
    "tags": []
   },
   "outputs": [
    {
     "name": "stdout",
     "output_type": "stream",
     "text": [
      "match id : 2128648\n",
      "match id : 2210383\n",
      "match id : 2210593\n",
      "match id : 1059830\n",
      "match id : 2128632\n",
      "match id : 1059712\n",
      "match id : 1059763\n",
      "match id : 2128326\n",
      "match id : 2128614\n",
      "match id : 1059894\n",
      "match id : 2210567\n",
      "match id : 1059733\n",
      "match id : 1059704\n",
      "match id : 2210573\n",
      "match id : 1059744\n",
      "match id : 2210589\n",
      "match id : 2210534\n",
      "match id : 1059753\n",
      "match id : 2210513\n",
      "match id : 2128618\n",
      "match id : 2210605\n",
      "match id : 2210554\n",
      "match id : 2210542\n",
      "match id : 2210612\n",
      "match id : 2210524\n",
      "match id : 1059914\n",
      "match id : 2128358\n",
      "match id : 2128294\n",
      "match id : 2128342\n",
      "match id : 2128641\n",
      "match id : 2128413\n",
      "match id : 1059787\n",
      "match id : 2128318\n",
      "match id : 1059832\n"
     ]
    }
   ],
   "source": [
    "# |eval: false\n",
    "\n",
    "games_path = \"/home/user/Downloads/Data/games/\"\n",
    "tracking_provider = \"secondSpectrum\"\n",
    "\n",
    "df = get_features_all_game(games_path, tracking_provider, save_df=True)"
   ]
  },
  {
   "cell_type": "code",
   "execution_count": null,
   "id": "d629ced9-f608-4469-8740-099c3944e8c2",
   "metadata": {},
   "outputs": [],
   "source": []
  },
  {
   "cell_type": "code",
   "execution_count": null,
   "id": "778bdfa3-cdd1-415e-820a-dc5c2a51453c",
   "metadata": {},
   "outputs": [],
   "source": [
    "#| hide\n",
    "from nbdev import nbdev_export\n",
    "\n",
    "nbdev_export()"
   ]
  },
  {
   "cell_type": "code",
   "execution_count": null,
   "id": "c55fd855-9097-4190-b634-9080217afd9a",
   "metadata": {},
   "outputs": [],
   "source": []
  }
 ],
 "metadata": {
  "kernelspec": {
   "display_name": "Python 3 (ipykernel)",
   "language": "python",
   "name": "python3"
  },
  "language_info": {
   "codemirror_mode": {
    "name": "ipython",
    "version": 3
   },
   "file_extension": ".py",
   "mimetype": "text/x-python",
   "name": "python",
   "nbconvert_exporter": "python",
   "pygments_lexer": "ipython3",
   "version": "3.9.16"
  }
 },
 "nbformat": 4,
 "nbformat_minor": 5
}
