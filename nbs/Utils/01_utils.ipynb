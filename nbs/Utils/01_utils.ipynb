{
 "cells": [
  {
   "cell_type": "code",
   "execution_count": null,
   "id": "c19b774a-4222-40cc-ac98-0a756a7a8efb",
   "metadata": {},
   "outputs": [],
   "source": [
    "#| default_exp utils"
   ]
  },
  {
   "cell_type": "code",
   "execution_count": null,
   "id": "bb58696c-a7e0-44ac-811b-39b64eda2f4d",
   "metadata": {},
   "outputs": [],
   "source": [
    "#| hide\n",
    "%load_ext autoreload\n",
    "%autoreload 2\n",
    "from IPython.core.debugger import set_trace"
   ]
  },
  {
   "cell_type": "code",
   "execution_count": null,
   "id": "a88b2a4b-4dae-4caa-b2ed-e602597adb29",
   "metadata": {},
   "outputs": [],
   "source": [
    "#| export\n",
    "\n",
    "import pandas as pd\n",
    "import numpy as np\n",
    "import math\n",
    "import json\n",
    "import pandas as pd\n",
    "import re\n",
    "import itertools\n",
    "import os\n",
    "from typing import Callable, List, Optional, Tuple\n",
    "from pathlib import Path"
   ]
  },
  {
   "cell_type": "code",
   "execution_count": null,
   "id": "575a8198-b4e9-4c39-82f2-0c2aeb9bdcaa",
   "metadata": {},
   "outputs": [],
   "source": [
    "#| export\n",
    "def get_game_dataframes(\n",
    "    game_path,\n",
    "    game_id,\n",
    "    event_provider,\n",
    "    tracking_provider\n",
    ")-> Tuple:\n",
    "    \"Get all the dataframes based on the game path\"\n",
    "    # events df\n",
    "    events_df = pd.read_csv(\n",
    "        game_path / f\"{tracking_provider}_{event_provider}_mapping.csv\",\n",
    "    )\n",
    "    \n",
    "    # events reduced df\n",
    "    events_red_df = pd.read_csv(\n",
    "        game_path / f\"{event_provider}_events_reduced.csv\",\n",
    "    ).rename(columns = {\"eventId\":\"event_key\"})\n",
    "    \n",
    "    events_df = pd.merge(events_df, events_red_df[[\"event_key\",\"playerKey\",\"opponentKey\",\"gameId\",\"possessionTeamId\"]], on=[\"event_key\"])\n",
    "    mask = (events_df[[\"event_name\",\"frameId\",\"event_secs\"]].shift() == events_df[[\"event_name\",\"frameId\",\"event_secs\"]]).all(axis=1)\n",
    "    events_df = events_df.loc[~mask].reset_index(drop=True)\n",
    "    \n",
    "    # tracking df\n",
    "    tracking_df = pd.read_csv(\n",
    "        game_path / f\"{tracking_provider}_tracking_df.csv\", low_memory=False\n",
    "    ).set_index(\"frameId\")\n",
    "    \n",
    "    # lineup df\n",
    "    lineup_df =  pd.read_csv(\n",
    "        game_path / \"lineup.csv\",\n",
    "    )\n",
    "    \n",
    "    # in and out df\n",
    "    in_out_df = pd.read_csv(\n",
    "        game_path / \"ins_outs.csv\",\n",
    "    ).rename(columns = {\"player_optaId\":\"optaId\"})\n",
    "    \n",
    "    # merge lineup_df and in_out_df on id column\n",
    "    merged = pd.merge(lineup_df,in_out_df[[\"optaId\",\"position_sportLogic\"]], on=\"optaId\", how=\"left\")\n",
    "\n",
    "    # replace NaN values in lineup_df with values from in_out_df\n",
    "    merged[\"position_sportLogic_x\"] = merged[\"position_sportLogic_x\"].fillna(merged[\"position_sportLogic_y\"])\n",
    "\n",
    "    # drop the extra value column\n",
    "    lineup_df = merged.drop(\"position_sportLogic_y\", axis=1).rename(columns={\"position_sportLogic_x\": \"position_sportLogic\"})\n",
    "\n",
    "    return events_df, tracking_df, lineup_df"
   ]
  },
  {
   "cell_type": "code",
   "execution_count": null,
   "id": "30885e95-27bd-4f74-995d-9f31e0e717c8",
   "metadata": {},
   "outputs": [],
   "source": [
    "game_path = Path(\"/home/user/Downloads/Data/games/1059704_2019-08-10_Burnley_Southampton\")\n",
    "game_id = 1059704\n",
    "tracking_provider = \"secondSpectrum\"\n",
    "events_df, tracking_df, lineup_df = get_game_dataframes(game_path=game_path,game_id=game_id,event_provider = \"opta\",tracking_provider=tracking_provider)"
   ]
  },
  {
   "cell_type": "code",
   "execution_count": null,
   "id": "d71f1998-7696-4169-a8c1-d6bf8d5a1e33",
   "metadata": {},
   "outputs": [],
   "source": [
    "#| export\n",
    "def get_teams(events_df):\n",
    "    \"Get the team id of each team in the game given an events df\"\n",
    "    home_team_id = events_df[events_df[\"playerKey\"].str.startswith(\"home\", na=False)][\"teamId\"].values[0]\n",
    "    away_team_id = events_df[events_df[\"playerKey\"].str.startswith(\"away\", na=False)][\"teamId\"].values[0]\n",
    "    return home_team_id, away_team_id\n"
   ]
  },
  {
   "cell_type": "code",
   "execution_count": null,
   "id": "ea958751-0a17-4265-a67d-0107181557c2",
   "metadata": {},
   "outputs": [],
   "source": [
    "home_team_id, away_team_id = get_teams(events_df)"
   ]
  },
  {
   "cell_type": "code",
   "execution_count": null,
   "id": "ae0f82c8-21c3-4480-a99c-48e624fde2c9",
   "metadata": {},
   "outputs": [],
   "source": [
    "#| export\n",
    "def get_goalkeepers(lineup_df):\n",
    "    \"Get goalkeepers for each team, useful for calling offsides\"\n",
    "    return [\n",
    "        lineup_df[(lineup_df[\"side\"]==\"home\") & (lineup_df[\"position\"]==\"GK\")].jerseyNumber.values[0],\n",
    "        lineup_df[(lineup_df[\"side\"]==\"away\") & (lineup_df[\"position\"]==\"GK\")].jerseyNumber.values[0],\n",
    "    ]"
   ]
  },
  {
   "cell_type": "code",
   "execution_count": null,
   "id": "5a725530-90d0-4b6a-951d-4c43b0a6d1dd",
   "metadata": {},
   "outputs": [],
   "source": [
    "home_gk_jersey, away_gk_jersey = get_goalkeepers(lineup_df)"
   ]
  },
  {
   "cell_type": "code",
   "execution_count": null,
   "id": "32522fb7-13d6-4ec1-ab5e-89f8027131a1",
   "metadata": {},
   "outputs": [],
   "source": [
    "#| hide\n",
    "from nbdev import nbdev_export\n",
    "\n",
    "nbdev_export()\n",
    "     "
   ]
  },
  {
   "cell_type": "code",
   "execution_count": null,
   "id": "fa1eb679-b627-409e-8350-77a3fb5d739c",
   "metadata": {},
   "outputs": [],
   "source": []
  }
 ],
 "metadata": {
  "kernelspec": {
   "display_name": "python3",
   "language": "python",
   "name": "python3"
  }
 },
 "nbformat": 4,
 "nbformat_minor": 5
}
